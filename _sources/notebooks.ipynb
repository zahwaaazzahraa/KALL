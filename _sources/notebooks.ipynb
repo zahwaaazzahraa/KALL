{
 "cells": [
  {
   "cell_type": "markdown",
   "metadata": {},
   "source": [
    "# Pengertian Sistem Persamaan Linier\n",
    "\n",
    "Sistem Persamaan Linier (SPL) adalah kumpulan dua atau lebih persamaan yang harus dipenuhi secara bersamaan. Persamaan ini disebut linier karena setiap variabelnya berpangkat satu dan tidak ada perkalian antar variabel. Tujuan utama Sistem Persamaan Linier adalah mencari nilai variabel yang membuat semua persamaan benar."
   ]
  }
 ],
 "metadata": {
  "kernelspec": {
   "display_name": "Python 3",
   "language": "python",
   "name": "python3"
  },
  "language_info": {
   "codemirror_mode": {
    "name": "ipython",
    "version": 3
   },
   "file_extension": ".py",
   "mimetype": "text/x-python",
   "name": "python",
   "nbconvert_exporter": "python",
   "pygments_lexer": "ipython3",
   "version": "3.8.0"
  },
  "widgets": {
   "application/vnd.jupyter.widget-state+json": {
    "state": {},
    "version_major": 2,
    "version_minor": 0
   }
  }
 },
 "nbformat": 4,
 "nbformat_minor": 4
}
